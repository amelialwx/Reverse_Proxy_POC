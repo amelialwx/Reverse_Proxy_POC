{
  "nbformat": 4,
  "nbformat_minor": 0,
  "metadata": {
    "colab": {
      "provenance": []
    },
    "kernelspec": {
      "name": "python3",
      "display_name": "Python 3"
    },
    "language_info": {
      "name": "python"
    }
  },
  "cells": [
    {
      "cell_type": "code",
      "source": [
        "!pip install openai==0.28"
      ],
      "metadata": {
        "colab": {
          "base_uri": "https://localhost:8080/"
        },
        "id": "X7YQ334Sb2MS",
        "outputId": "7f022bac-f9d8-47ce-f9c1-b270aa16c924"
      },
      "execution_count": 1,
      "outputs": [
        {
          "output_type": "stream",
          "name": "stdout",
          "text": [
            "Requirement already satisfied: openai==0.28 in /usr/local/lib/python3.10/dist-packages (0.28.0)\n",
            "Requirement already satisfied: requests>=2.20 in /usr/local/lib/python3.10/dist-packages (from openai==0.28) (2.31.0)\n",
            "Requirement already satisfied: tqdm in /usr/local/lib/python3.10/dist-packages (from openai==0.28) (4.66.1)\n",
            "Requirement already satisfied: aiohttp in /usr/local/lib/python3.10/dist-packages (from openai==0.28) (3.9.1)\n",
            "Requirement already satisfied: charset-normalizer<4,>=2 in /usr/local/lib/python3.10/dist-packages (from requests>=2.20->openai==0.28) (3.3.2)\n",
            "Requirement already satisfied: idna<4,>=2.5 in /usr/local/lib/python3.10/dist-packages (from requests>=2.20->openai==0.28) (3.6)\n",
            "Requirement already satisfied: urllib3<3,>=1.21.1 in /usr/local/lib/python3.10/dist-packages (from requests>=2.20->openai==0.28) (2.0.7)\n",
            "Requirement already satisfied: certifi>=2017.4.17 in /usr/local/lib/python3.10/dist-packages (from requests>=2.20->openai==0.28) (2023.11.17)\n",
            "Requirement already satisfied: attrs>=17.3.0 in /usr/local/lib/python3.10/dist-packages (from aiohttp->openai==0.28) (23.1.0)\n",
            "Requirement already satisfied: multidict<7.0,>=4.5 in /usr/local/lib/python3.10/dist-packages (from aiohttp->openai==0.28) (6.0.4)\n",
            "Requirement already satisfied: yarl<2.0,>=1.0 in /usr/local/lib/python3.10/dist-packages (from aiohttp->openai==0.28) (1.9.4)\n",
            "Requirement already satisfied: frozenlist>=1.1.1 in /usr/local/lib/python3.10/dist-packages (from aiohttp->openai==0.28) (1.4.0)\n",
            "Requirement already satisfied: aiosignal>=1.1.2 in /usr/local/lib/python3.10/dist-packages (from aiohttp->openai==0.28) (1.3.1)\n",
            "Requirement already satisfied: async-timeout<5.0,>=4.0 in /usr/local/lib/python3.10/dist-packages (from aiohttp->openai==0.28) (4.0.3)\n"
          ]
        }
      ]
    },
    {
      "cell_type": "code",
      "source": [
        "import openai\n",
        "\n",
        "openai.api_key = 'YOUR API KEY'\n",
        "openai.api_base = 'YOUR BASE URL (OPTIONAL)'"
      ],
      "metadata": {
        "id": "TwTkm1xEbg6U"
      },
      "execution_count": 4,
      "outputs": []
    },
    {
      "cell_type": "code",
      "source": [
        "def chat_with_gpt(history):\n",
        "    response = openai.ChatCompletion.create(\n",
        "        model='pai-001',\n",
        "        messages=history\n",
        "    )\n",
        "    return response.choices[0].message.content.strip()\n",
        "\n",
        "def main():\n",
        "    history = []\n",
        "    while True:\n",
        "        user_input = input(\"You: \")\n",
        "        if user_input.lower() in ['quit', 'exit', 'bye']:\n",
        "            break\n",
        "\n",
        "        # Update history with the user's message\n",
        "        history.append({\"role\": \"user\", \"content\": user_input})\n",
        "\n",
        "        # Get response from AI and update history\n",
        "        response = chat_with_gpt(history)\n",
        "        print(\"Chatbot:\", response)\n",
        "        history.append({\"role\": \"assistant\", \"content\": response})\n",
        "\n",
        "if __name__ == \"__main__\":\n",
        "    main()"
      ],
      "metadata": {
        "colab": {
          "base_uri": "https://localhost:8080/"
        },
        "id": "IV8SAjsitYKy",
        "outputId": "87482817-54ba-4c05-def5-73788f0d4a98"
      },
      "execution_count": 33,
      "outputs": [
        {
          "name": "stdout",
          "output_type": "stream",
          "text": [
            "You: What is the capital of the United States?\n",
            "Chatbot: The capital of the United States is Washington, D.C. (Washington District of Columbia). The President of the United States resides in the White House, which is located in the city of Washington, D.C. However, Nebraska City, Nebraska, and Columbia, South Carolina, were both briefly serving as the capital of the United States before Washington, D.C. Was officially established in 1790.\n",
            "You: What fun things can I do in the area?\n",
            "Chatbot: Without knowing your exact location, it's hard for me to suggest specific fun activities. However, if you're in or around washington, d.c., here are some popular things to do:\n",
            "\n",
            "1. Visit the national mall and memorial park, which is home to iconic landmarks such as the washington monument, lincoln memorial, and reflection pool.\n",
            "\n",
            "2. Take a walking tour of georgetown, a historic neighborhood filled with shops, restaurants, and beautiful architecture.\n",
            "\n",
            "3. Explore the smithsonian museums, which are all free to the public and cover a wide variety of topics, from american history to natural history to art and culture.\n",
            "\n",
            "4. Head to the united states botanic garden, a stunning indoor and outdoor oasis featuring over 60,000 plants.\n",
            "\n",
            "5. Check out some of washington, d.c.'s thriving art scenes at places like the national gallery of art or the contemporary art museum (cam).\n",
            "\n",
            "6. Go on a boat tour of the potomac river, which offers scenic views of the city's landmarks and bridges.\n",
            "\n",
            "7. Visit some of washington, d.c.'s local neighborhoods like dupont circle, adams morgan, or red hook to experience the city's culture and cuisine.\n",
            "\n",
            "8. Head to capitol hill, the epicenter of american politics, to watch legislators in action and see the u.s. Capitol building up close.\n",
            "\n",
            "remember to follow all local health and safety guidelines and enjoy your visit to washington, d.c.!\n",
            "You: quit\n"
          ]
        }
      ]
    }
  ]
}